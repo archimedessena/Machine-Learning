{
 "cells": [
  {
   "cell_type": "markdown",
   "metadata": {},
   "source": [
    "# THIS IS THE FIRST COURSE FROM COURSERA \n"
   ]
  },
  {
   "cell_type": "markdown",
   "metadata": {},
   "source": [
    "IT IS CALLED DATA SCIENCE SPECIALIZATION\n",
    "INTRODUCTION TO DATA MAN"
   ]
  },
  {
   "cell_type": "markdown",
   "metadata": {},
   "source": [
    "#PYTHON FUNCTIONS"
   ]
  },
  {
   "cell_type": "code",
   "execution_count": 2,
   "metadata": {},
   "outputs": [
    {
     "name": "stdout",
     "output_type": "stream",
     "text": [
      "16.0\n"
     ]
    }
   ],
   "source": [
    "import math\n",
    "def quadratic_equation(a, b, c):\n",
    "    x = -b\n",
    "    y = math.sqrt(b*b -4*a*c)\n",
    "    z = x + y\n",
    "    h = z/2*a\n",
    "    return h\n",
    "\n",
    "print(quadratic_equation(2, -9, 4))"
   ]
  },
  {
   "cell_type": "code",
   "execution_count": 3,
   "metadata": {},
   "outputs": [],
   "source": [
    "def do_it(a, b, c):\n",
    "    g = (-b + math.sqrt(b*b-4*a*c))/2*a\n",
    "    return g"
   ]
  },
  {
   "cell_type": "code",
   "execution_count": 4,
   "metadata": {},
   "outputs": [
    {
     "name": "stdout",
     "output_type": "stream",
     "text": [
      "-9.0\n"
     ]
    }
   ],
   "source": [
    "print(do_it(3, 10, 7))"
   ]
  },
  {
   "cell_type": "code",
   "execution_count": 5,
   "metadata": {},
   "outputs": [
    {
     "name": "stdout",
     "output_type": "stream",
     "text": [
      "10.75\n"
     ]
    }
   ],
   "source": [
    "a, b, c = 2, -9, 4\n",
    "d = -b + math.sqrt((b**2) - (4*a*c))/(2*a)\n",
    "print(d)"
   ]
  },
  {
   "cell_type": "code",
   "execution_count": 6,
   "metadata": {},
   "outputs": [],
   "source": [
    "def subtract_integers(p=None, r=None, s=None):\n",
    "    if (p==r==s==None):\n",
    "        return None\n",
    "    if (s==None):\n",
    "        return p * r\n",
    "    \n",
    "    "
   ]
  },
  {
   "cell_type": "code",
   "execution_count": 7,
   "metadata": {},
   "outputs": [
    {
     "name": "stdout",
     "output_type": "stream",
     "text": [
      "12\n"
     ]
    }
   ],
   "source": [
    "print(subtract_integers(3, 4))"
   ]
  },
  {
   "cell_type": "code",
   "execution_count": 8,
   "metadata": {},
   "outputs": [
    {
     "data": {
      "text/plain": [
       "7"
      ]
     },
     "execution_count": 8,
     "metadata": {},
     "output_type": "execute_result"
    }
   ],
   "source": [
    "def add_numbers(x, y=None):\n",
    "    if (y==None):\n",
    "        return x\n",
    "    else:\n",
    "        return x + y\n",
    "add_numbers(3, 4)"
   ]
  },
  {
   "cell_type": "markdown",
   "metadata": {},
   "source": [
    "__Python types and sequence__"
   ]
  },
  {
   "cell_type": "code",
   "execution_count": 9,
   "metadata": {},
   "outputs": [],
   "source": [
    "# Function\n",
    "# Tuple\n",
    "# List\n",
    "# Dictionary\n",
    "#Set\n",
    "# Integers\n",
    "# Float\n",
    "# String\n",
    "# class\n"
   ]
  },
  {
   "cell_type": "code",
   "execution_count": 10,
   "metadata": {},
   "outputs": [
    {
     "name": "stdout",
     "output_type": "stream",
     "text": [
      "True\n"
     ]
    }
   ],
   "source": [
    "full_name = 'Archimedes Sena Senadju'\n",
    "name_of_school = 'University of Education, Winneba'\n",
    "program = 'BSc Mathematics'\n",
    "print('Sena' in full_name)"
   ]
  },
  {
   "cell_type": "code",
   "execution_count": 11,
   "metadata": {},
   "outputs": [
    {
     "name": "stdout",
     "output_type": "stream",
     "text": [
      "Archimedes\n",
      "Senadju\n",
      "Sena\n"
     ]
    }
   ],
   "source": [
    "print(full_name.split(' ')[0])\n",
    "print(full_name.split(' ')[-1])\n",
    "print(full_name.split(' ')[1])\n"
   ]
  },
  {
   "cell_type": "code",
   "execution_count": 12,
   "metadata": {},
   "outputs": [
    {
     "name": "stdout",
     "output_type": "stream",
     "text": [
      "Hello, Senadju\n"
     ]
    }
   ],
   "source": [
    "first = full_name.split(' ')\n",
    "splitted = first[-1]\n",
    "print('Hello,', splitted)"
   ]
  },
  {
   "cell_type": "code",
   "execution_count": 13,
   "metadata": {},
   "outputs": [
    {
     "name": "stdout",
     "output_type": "stream",
     "text": [
      "I thought you are a product of Winneba\n"
     ]
    }
   ],
   "source": [
    "_thought = name_of_school.split(' ')\n",
    "thought = _thought[-1]\n",
    "print('I thought you are a product of', thought)"
   ]
  },
  {
   "cell_type": "code",
   "execution_count": 14,
   "metadata": {},
   "outputs": [],
   "source": [
    "def guess(school=None):\n",
    "    if school == thought:\n",
    "        return 'You are the right school'\n",
    "    else:\n",
    "        return \"That is a garbage school\""
   ]
  },
  {
   "cell_type": "code",
   "execution_count": 15,
   "metadata": {},
   "outputs": [
    {
     "name": "stdout",
     "output_type": "stream",
     "text": [
      "That is a garbage school\n"
     ]
    }
   ],
   "source": [
    "print(guess('Legon'))"
   ]
  },
  {
   "cell_type": "code",
   "execution_count": 16,
   "metadata": {},
   "outputs": [
    {
     "name": "stdout",
     "output_type": "stream",
     "text": [
      "['a', 'b', 'c', 'd', 'e', 1, 3, 5, 7, 9, 11]\n"
     ]
    }
   ],
   "source": [
    "# List\n",
    "alp = ['a', 'b', 'c', 'd', 'e']\n",
    "num = [1, 3, 5, 7, 9, 11]\n",
    "combined = alp + num\n",
    "print(combined)"
   ]
  },
  {
   "cell_type": "code",
   "execution_count": 17,
   "metadata": {},
   "outputs": [
    {
     "data": {
      "text/plain": [
       "[5]"
      ]
     },
     "execution_count": 17,
     "metadata": {},
     "output_type": "execute_result"
    }
   ],
   "source": [
    "combined[5]\n",
    "combined[-5:]\n",
    "combined[4:]\n",
    "combined[2]\n",
    "combined[:]\n",
    "combined[-9:-4]\n",
    "combined[3:5]\n",
    "combined[2:9:3]\n",
    "num[2:4:2]"
   ]
  },
  {
   "cell_type": "code",
   "execution_count": 22,
   "metadata": {},
   "outputs": [
    {
     "data": {
      "text/plain": [
       "21"
      ]
     },
     "execution_count": 22,
     "metadata": {},
     "output_type": "execute_result"
    }
   ],
   "source": [
    "c = lambda x:x+x**2+1\n",
    "c(4)"
   ]
  },
  {
   "cell_type": "code",
   "execution_count": 30,
   "metadata": {},
   "outputs": [],
   "source": [
    "kid_brother = 'Godsway Kpetigo'"
   ]
  },
  {
   "cell_type": "code",
   "execution_count": 33,
   "metadata": {},
   "outputs": [
    {
     "name": "stdout",
     "output_type": "stream",
     "text": [
      "Kpetigo Godsway Kpetigo\n"
     ]
    }
   ],
   "source": [
    "print(kid_brother.split(' ')[1], kid_brother)"
   ]
  },
  {
   "cell_type": "markdown",
   "metadata": {},
   "source": [
    "# DICTIONARY"
   ]
  },
  {
   "cell_type": "code",
   "execution_count": 34,
   "metadata": {},
   "outputs": [],
   "source": [
    "name_email = {'Archimedes':'archimedes@gmailcom', 'Sena':'sena@gmail.com', 'Eli':'eli@gmail.com', 'Godsway':'godsway@gmail.com'}"
   ]
  },
  {
   "cell_type": "code",
   "execution_count": 35,
   "metadata": {},
   "outputs": [
    {
     "name": "stdout",
     "output_type": "stream",
     "text": [
      "{'Archimedes': 'archimedes@gmailcom', 'Sena': 'sena@gmail.com', 'Eli': 'eli@gmail.com', 'Godsway': 'godsway@gmail.com'}\n"
     ]
    }
   ],
   "source": [
    "print(name_email)"
   ]
  },
  {
   "cell_type": "code",
   "execution_count": 44,
   "metadata": {},
   "outputs": [
    {
     "name": "stdout",
     "output_type": "stream",
     "text": [
      "Yes\n",
      "NO\n",
      "NO\n",
      "Yes\n"
     ]
    }
   ],
   "source": [
    "for name in name_email:\n",
    "    if ('d' in name):\n",
    "        print('Yes')\n",
    "    else:\n",
    "        print(\"NO\")\n",
    "        "
   ]
  },
  {
   "cell_type": "code",
   "execution_count": 54,
   "metadata": {},
   "outputs": [],
   "source": [
    "for name in name_email:\n",
    "    if name=='archimedes@gmail.com':\n",
    "        print(name_email[name])\n",
    "    elif(name_email.values()=='archimedes@gmail.com'):\n",
    "        print(name_email.keys('archimedes@gmail.com'))\n",
    "        \n"
   ]
  },
  {
   "cell_type": "code",
   "execution_count": 60,
   "metadata": {},
   "outputs": [
    {
     "name": "stdout",
     "output_type": "stream",
     "text": [
      "archimedes@gmailcom\n",
      "sena@gmail.com\n",
      "eli@gmail.com\n",
      "godsway@gmail.com\n"
     ]
    }
   ],
   "source": [
    "for n in name_email:\n",
    "    print(name_email[n])"
   ]
  },
  {
   "cell_type": "code",
   "execution_count": 65,
   "metadata": {},
   "outputs": [
    {
     "data": {
      "text/plain": [
       "'godsway@gmail.com'"
      ]
     },
     "execution_count": 65,
     "metadata": {},
     "output_type": "execute_result"
    }
   ],
   "source": [
    "name_email[n].split(' ')[0]"
   ]
  },
  {
   "cell_type": "code",
   "execution_count": 66,
   "metadata": {},
   "outputs": [],
   "source": [
    "name_email['cele']='cele@gmail.com'"
   ]
  },
  {
   "cell_type": "code",
   "execution_count": 67,
   "metadata": {},
   "outputs": [
    {
     "data": {
      "text/plain": [
       "{'Archimedes': 'archimedes@gmailcom',\n",
       " 'Sena': 'sena@gmail.com',\n",
       " 'Eli': 'eli@gmail.com',\n",
       " 'Godsway': 'godsway@gmail.com',\n",
       " 'cele': 'cele@gmail.com'}"
      ]
     },
     "execution_count": 67,
     "metadata": {},
     "output_type": "execute_result"
    }
   ],
   "source": [
    "name_email"
   ]
  },
  {
   "cell_type": "code",
   "execution_count": null,
   "metadata": {},
   "outputs": [],
   "source": []
  }
 ],
 "metadata": {
  "kernelspec": {
   "display_name": "Python 3",
   "language": "python",
   "name": "python3"
  },
  "language_info": {
   "codemirror_mode": {
    "name": "ipython",
    "version": 3
   },
   "file_extension": ".py",
   "mimetype": "text/x-python",
   "name": "python",
   "nbconvert_exporter": "python",
   "pygments_lexer": "ipython3",
   "version": "3.8.3"
  }
 },
 "nbformat": 4,
 "nbformat_minor": 4
}
