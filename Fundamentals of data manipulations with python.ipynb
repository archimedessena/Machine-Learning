{
 "cells": [
  {
   "cell_type": "markdown",
   "metadata": {},
   "source": [
    "# THIS IS THE FIRST COURSE FROM COURSERA \n"
   ]
  },
  {
   "cell_type": "markdown",
   "metadata": {},
   "source": [
    "IT IS CALLED DATA SCIENCE SPECIALIZATION\n",
    "INTRODUCTION TO DATA MAN"
   ]
  },
  {
   "cell_type": "markdown",
   "metadata": {},
   "source": [
    "#PYTHON FUNCTIONS"
   ]
  },
  {
   "cell_type": "code",
   "execution_count": 32,
   "metadata": {},
   "outputs": [
    {
     "name": "stdout",
     "output_type": "stream",
     "text": [
      "16.0\n"
     ]
    }
   ],
   "source": [
    "import math\n",
    "def quadratic_equation(a, b, c):\n",
    "    x = -b\n",
    "    y = math.sqrt(b*b -4*a*c)\n",
    "    z = x + y\n",
    "    h = z/2*a\n",
    "    return h\n",
    "\n",
    "print(quadratic_equation(2, -9, 4))"
   ]
  },
  {
   "cell_type": "code",
   "execution_count": 37,
   "metadata": {},
   "outputs": [],
   "source": [
    "def do_it(a, b, c):\n",
    "    g = (-b + math.sqrt(b*b-4*a*c))/2*a\n",
    "    return g"
   ]
  },
  {
   "cell_type": "code",
   "execution_count": 41,
   "metadata": {},
   "outputs": [
    {
     "name": "stdout",
     "output_type": "stream",
     "text": [
      "-6.0\n"
     ]
    }
   ],
   "source": [
    "print(do_it(3, 10, 7))"
   ]
  },
  {
   "cell_type": "code",
   "execution_count": 91,
   "metadata": {},
   "outputs": [
    {
     "name": "stdout",
     "output_type": "stream",
     "text": [
      "10.75\n"
     ]
    }
   ],
   "source": [
    "a, b, c = 2, -9, 4\n",
    "d = -b + math.sqrt((b**2) - (4*a*c))/(2*a)\n",
    "print(d)"
   ]
  },
  {
   "cell_type": "code",
   "execution_count": 44,
   "metadata": {},
   "outputs": [],
   "source": [
    "def subtract_integers(p=None, r=None, s=None):\n",
    "    if (p==r==s==None):\n",
    "        return None\n",
    "    if (s==None):\n",
    "        return p * r\n",
    "    \n",
    "    "
   ]
  },
  {
   "cell_type": "code",
   "execution_count": 45,
   "metadata": {},
   "outputs": [
    {
     "name": "stdout",
     "output_type": "stream",
     "text": [
      "12\n"
     ]
    }
   ],
   "source": [
    "print(subtract_integers(3, 4))"
   ]
  },
  {
   "cell_type": "code",
   "execution_count": 52,
   "metadata": {},
   "outputs": [
    {
     "data": {
      "text/plain": [
       "7"
      ]
     },
     "execution_count": 52,
     "metadata": {},
     "output_type": "execute_result"
    }
   ],
   "source": [
    "def add_numbers(x, y=None):\n",
    "    if (y==None):\n",
    "        return x\n",
    "    else:\n",
    "        return x + y\n",
    "add_numbers(3, 4)"
   ]
  },
  {
   "cell_type": "markdown",
   "metadata": {},
   "source": [
    "__Python types and sequence__"
   ]
  },
  {
   "cell_type": "code",
   "execution_count": 65,
   "metadata": {},
   "outputs": [],
   "source": [
    "# Function\n",
    "# Tuple\n",
    "# List\n",
    "# Dictionary\n",
    "#Set\n",
    "# Integers\n",
    "# Float\n",
    "# String\n",
    "# class\n"
   ]
  },
  {
   "cell_type": "code",
   "execution_count": 66,
   "metadata": {},
   "outputs": [
    {
     "name": "stdout",
     "output_type": "stream",
     "text": [
      "True\n"
     ]
    }
   ],
   "source": [
    "full_name = 'Archimedes Sena Senadju'\n",
    "name_of_school = 'University of Education, Winneba'\n",
    "program = 'BSc Mathematics'\n",
    "print('Sena' in full_name)"
   ]
  },
  {
   "cell_type": "code",
   "execution_count": 70,
   "metadata": {},
   "outputs": [
    {
     "name": "stdout",
     "output_type": "stream",
     "text": [
      "Archimedes\n",
      "Senadju\n",
      "Sena\n"
     ]
    }
   ],
   "source": [
    "print(full_name.split(' ')[0])\n",
    "print(full_name.split(' ')[-1])\n",
    "print(full_name.split(' ')[1])\n"
   ]
  },
  {
   "cell_type": "code",
   "execution_count": 76,
   "metadata": {},
   "outputs": [
    {
     "name": "stdout",
     "output_type": "stream",
     "text": [
      "Hello, Senadju\n"
     ]
    }
   ],
   "source": [
    "first = full_name.split(' ')\n",
    "splitted = first[-1]\n",
    "print('Hello,', splitted)"
   ]
  },
  {
   "cell_type": "code",
   "execution_count": 77,
   "metadata": {},
   "outputs": [
    {
     "name": "stdout",
     "output_type": "stream",
     "text": [
      "I thought you are a product of Winneba\n"
     ]
    }
   ],
   "source": [
    "_thought = name_of_school.split(' ')\n",
    "thought = _thought[-1]\n",
    "print('I thought you are a product of', thought)"
   ]
  },
  {
   "cell_type": "code",
   "execution_count": 82,
   "metadata": {},
   "outputs": [],
   "source": [
    "def guess(school=None):\n",
    "    if school == thought:\n",
    "        return 'You are the right school'\n",
    "    else:\n",
    "        return \"That is a garbage school\""
   ]
  },
  {
   "cell_type": "code",
   "execution_count": 84,
   "metadata": {},
   "outputs": [
    {
     "name": "stdout",
     "output_type": "stream",
     "text": [
      "That is a garbage school\n"
     ]
    }
   ],
   "source": [
    "print(guess('Legon'))"
   ]
  },
  {
   "cell_type": "code",
   "execution_count": 95,
   "metadata": {},
   "outputs": [
    {
     "name": "stdout",
     "output_type": "stream",
     "text": [
      "['a', 'b', 'c', 'd', 'e', 1, 3, 5, 7, 9, 11]\n"
     ]
    }
   ],
   "source": [
    "# List\n",
    "alp = ['a', 'b', 'c', 'd', 'e']\n",
    "num = [1, 3, 5, 7, 9, 11]\n",
    "combined = alp + num\n",
    "print(combined)"
   ]
  },
  {
   "cell_type": "code",
   "execution_count": 112,
   "metadata": {},
   "outputs": [
    {
     "data": {
      "text/plain": [
       "[5]"
      ]
     },
     "execution_count": 112,
     "metadata": {},
     "output_type": "execute_result"
    }
   ],
   "source": [
    "combined[5]\n",
    "combined[-5:]\n",
    "combined[4:]\n",
    "combined[2]\n",
    "combined[:]\n",
    "combined[-9:-4]\n",
    "combined[3:5]\n",
    "combined[2:9:3]\n",
    "num[2:4:2]"
   ]
  },
  {
   "cell_type": "code",
   "execution_count": 121,
   "metadata": {},
   "outputs": [
    {
     "data": {
      "text/plain": [
       "5"
      ]
     },
     "execution_count": 121,
     "metadata": {},
     "output_type": "execute_result"
    }
   ],
   "source": [
    "c = lambda x:x+1\n",
    "c(4)"
   ]
  },
  {
   "cell_type": "code",
   "execution_count": null,
   "metadata": {},
   "outputs": [],
   "source": []
  },
  {
   "cell_type": "code",
   "execution_count": null,
   "metadata": {},
   "outputs": [],
   "source": []
  }
 ],
 "metadata": {
  "kernelspec": {
   "display_name": "Python 3",
   "language": "python",
   "name": "python3"
  },
  "language_info": {
   "codemirror_mode": {
    "name": "ipython",
    "version": 3
   },
   "file_extension": ".py",
   "mimetype": "text/x-python",
   "name": "python",
   "nbconvert_exporter": "python",
   "pygments_lexer": "ipython3",
   "version": "3.8.3"
  }
 },
 "nbformat": 4,
 "nbformat_minor": 4
}
